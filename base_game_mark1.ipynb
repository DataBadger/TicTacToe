{
 "metadata": {
  "language_info": {
   "codemirror_mode": {
    "name": "ipython",
    "version": 3
   },
   "file_extension": ".py",
   "mimetype": "text/x-python",
   "name": "python",
   "nbconvert_exporter": "python",
   "pygments_lexer": "ipython3",
   "version": "3.9.0-final"
  },
  "orig_nbformat": 2,
  "kernelspec": {
   "name": "python3",
   "display_name": "Python 3.9.0 64-bit",
   "metadata": {
    "interpreter": {
     "hash": "ac59ebe37160ed0dfa835113d9b8498d9f09ceb179beaac4002f036b9467c963"
    }
   }
  }
 },
 "nbformat": 4,
 "nbformat_minor": 2,
 "cells": [
  {
   "cell_type": "code",
   "execution_count": 50,
   "metadata": {},
   "outputs": [],
   "source": [
    "# Crate board ✓\n",
    "# Display board ✓\n",
    "# Check if board is full ✓\n",
    "# Randomly pick player who will go first ✓\n",
    "# Check for victory ✓\n",
    "# Ask player to pick X or O ✓\n",
    "# Ask player to make a move ✓\n",
    "# Check for if move is valid ✓ \n",
    "# Ask if want to play another game"
   ]
  },
  {
   "cell_type": "code",
   "execution_count": 347,
   "metadata": {},
   "outputs": [],
   "source": [
    "from random import randint"
   ]
  },
  {
   "cell_type": "code",
   "execution_count": 421,
   "metadata": {},
   "outputs": [],
   "source": [
    "# Test board X wins\n",
    "board = ['#','x',' ',' ','x',' ',' ','x',' ',' ']"
   ]
  },
  {
   "cell_type": "code",
   "execution_count": 422,
   "metadata": {},
   "outputs": [],
   "source": [
    "# Board display\n",
    "def display_board(board):\n",
    "    print(board[7]+'|'+board[8]+'|'+board[9])\n",
    "    print('-----')\n",
    "    print(board[4]+'|'+board[5]+'|'+board[6])\n",
    "    print('-----')\n",
    "    print(board[1]+'|'+board[2]+'|'+board[3])\n"
   ]
  },
  {
   "cell_type": "code",
   "execution_count": 429,
   "metadata": {},
   "outputs": [
    {
     "output_type": "stream",
     "name": "stdout",
     "text": [
      "x| | \n-----\nx| | \n-----\nx| | \n"
     ]
    }
   ],
   "source": [
    "display_board(board)"
   ]
  },
  {
   "cell_type": "code",
   "execution_count": 355,
   "metadata": {},
   "outputs": [],
   "source": [
    "# Checking if board is full, if full, displays the board, declares a tie and asks if another game is wanted.\n",
    "def check_if_full(board):\n",
    "    for space in range(1,11):\n",
    "        if ' ' not in board:\n",
    "            display_board(board)\n",
    "            answer = input('No more moves, its a tie, would you like to play again? Y or N')\n",
    "            if answer.lower == 'y':\n",
    "                game_on = True\n",
    "                break\n",
    "            else:\n",
    "                game_on = False\n",
    "                break\n",
    "        break"
   ]
  },
  {
   "cell_type": "code",
   "execution_count": 432,
   "metadata": {},
   "outputs": [],
   "source": [
    "# Check if a player has won the game\n",
    "def check_victory(board,mark):\n",
    "    return ((board[1] == mark and board[2] == mark and board[3] == mark or\n",
    "    board[4] == mark and board[5] == mark and board[6] == mark or\n",
    "    board[7] == mark and board[8] == mark and board[9] == mark or\n",
    "    board[2] == mark and board[5] == mark and board[8] == mark or\n",
    "    board[3] == mark and board[6] == mark and board[9] == mark or\n",
    "    board[1] == mark and board[5] == mark and board[9] == mark or\n",
    "    board[1] == mark and board[4] == mark and board[7] == mark or\n",
    "    board[3] == mark and board[5] == mark and board[7] == mark))\n",
    "    "
   ]
  },
  {
   "cell_type": "code",
   "execution_count": 433,
   "metadata": {},
   "outputs": [
    {
     "output_type": "execute_result",
     "data": {
      "text/plain": [
       "True"
      ]
     },
     "metadata": {},
     "execution_count": 433
    }
   ],
   "source": [
    "check_victory(board,player1)"
   ]
  },
  {
   "cell_type": "code",
   "execution_count": 388,
   "metadata": {},
   "outputs": [],
   "source": [
    "def player_move(board,mark):\n",
    "    move = False\n",
    "    display_board(board)\n",
    "    while move == False:\n",
    "        num = int(input('Please choose a position from 1 to 9 (bottom left to top right) to make a move: '))\n",
    "        if board[num] == ' ':\n",
    "            board[num] = mark\n",
    "            clear_output()\n",
    "            display_board(board)\n",
    "            break\n",
    "        else:\n",
    "            clear_output()\n",
    "            print('Invalid move:')\n",
    "            display_board(board)"
   ]
  },
  {
   "cell_type": "code",
   "execution_count": 389,
   "metadata": {},
   "outputs": [
    {
     "output_type": "stream",
     "name": "stdout",
     "text": [
      "Invalid move:\n |x|x\n-----\nx|x|o\n-----\nx|x|o\n"
     ]
    },
    {
     "output_type": "error",
     "ename": "ValueError",
     "evalue": "invalid literal for int() with base 10: ''",
     "traceback": [
      "\u001b[1;31m---------------------------------------------------------------------------\u001b[0m",
      "\u001b[1;31mValueError\u001b[0m                                Traceback (most recent call last)",
      "\u001b[1;32m<ipython-input-389-00bc4116f2be>\u001b[0m in \u001b[0;36m<module>\u001b[1;34m\u001b[0m\n\u001b[1;32m----> 1\u001b[1;33m \u001b[0mplayer_move\u001b[0m\u001b[1;33m(\u001b[0m\u001b[0mboard\u001b[0m\u001b[1;33m,\u001b[0m\u001b[0mplayer1\u001b[0m\u001b[1;33m)\u001b[0m\u001b[1;33m\u001b[0m\u001b[1;33m\u001b[0m\u001b[0m\n\u001b[0m",
      "\u001b[1;32m<ipython-input-388-4385adf6cacc>\u001b[0m in \u001b[0;36mplayer_move\u001b[1;34m(board, mark)\u001b[0m\n\u001b[0;32m      3\u001b[0m     \u001b[0mdisplay_board\u001b[0m\u001b[1;33m(\u001b[0m\u001b[0mboard\u001b[0m\u001b[1;33m)\u001b[0m\u001b[1;33m\u001b[0m\u001b[1;33m\u001b[0m\u001b[0m\n\u001b[0;32m      4\u001b[0m     \u001b[1;32mwhile\u001b[0m \u001b[0mmove\u001b[0m \u001b[1;33m==\u001b[0m \u001b[1;32mFalse\u001b[0m\u001b[1;33m:\u001b[0m\u001b[1;33m\u001b[0m\u001b[1;33m\u001b[0m\u001b[0m\n\u001b[1;32m----> 5\u001b[1;33m         \u001b[0mnum\u001b[0m \u001b[1;33m=\u001b[0m \u001b[0mint\u001b[0m\u001b[1;33m(\u001b[0m\u001b[0minput\u001b[0m\u001b[1;33m(\u001b[0m\u001b[1;34m'Please choose a position from 1 to 9 (bottom left to top right) to make a move: '\u001b[0m\u001b[1;33m)\u001b[0m\u001b[1;33m)\u001b[0m\u001b[1;33m\u001b[0m\u001b[1;33m\u001b[0m\u001b[0m\n\u001b[0m\u001b[0;32m      6\u001b[0m         \u001b[1;32mif\u001b[0m \u001b[0mboard\u001b[0m\u001b[1;33m[\u001b[0m\u001b[0mnum\u001b[0m\u001b[1;33m]\u001b[0m \u001b[1;33m==\u001b[0m \u001b[1;34m' '\u001b[0m\u001b[1;33m:\u001b[0m\u001b[1;33m\u001b[0m\u001b[1;33m\u001b[0m\u001b[0m\n\u001b[0;32m      7\u001b[0m             \u001b[0mboard\u001b[0m\u001b[1;33m[\u001b[0m\u001b[0mnum\u001b[0m\u001b[1;33m]\u001b[0m \u001b[1;33m=\u001b[0m \u001b[0mmark\u001b[0m\u001b[1;33m\u001b[0m\u001b[1;33m\u001b[0m\u001b[0m\n",
      "\u001b[1;31mValueError\u001b[0m: invalid literal for int() with base 10: ''"
     ]
    }
   ],
   "source": [
    "player_move(board,player1)"
   ]
  },
  {
   "cell_type": "code",
   "execution_count": 358,
   "metadata": {},
   "outputs": [],
   "source": [
    "check_if_full(board)"
   ]
  },
  {
   "cell_type": "code",
   "execution_count": 359,
   "metadata": {},
   "outputs": [],
   "source": [
    "def player_choice():\n",
    "    x = input('Please pick X or O to play: ')\n",
    "    if x.lower() == 'x':\n",
    "        return ('x','o')\n",
    "    else:\n",
    "        return('o','x')\n",
    "        "
   ]
  },
  {
   "cell_type": "code",
   "execution_count": 360,
   "metadata": {},
   "outputs": [],
   "source": [
    "def player():\n",
    "    if randint(1,2) == 1:\n",
    "        return 'Player 1 goes first'\n",
    "    else:\n",
    "        return 'Player 2 goes first'\n",
    "    "
   ]
  },
  {
   "cell_type": "code",
   "execution_count": 397,
   "metadata": {},
   "outputs": [
    {
     "output_type": "stream",
     "name": "stdout",
     "text": [
      "Player 2 goes first\n"
     ]
    }
   ],
   "source": [
    "print(player())"
   ]
  },
  {
   "cell_type": "code",
   "execution_count": 362,
   "metadata": {},
   "outputs": [
    {
     "output_type": "execute_result",
     "data": {
      "text/plain": [
       "'Player 2 goes first'"
      ]
     },
     "metadata": {},
     "execution_count": 362
    }
   ],
   "source": [
    "first_to_play"
   ]
  },
  {
   "cell_type": "code",
   "execution_count": 425,
   "metadata": {},
   "outputs": [],
   "source": [
    "player1,player2 = player_choice()"
   ]
  },
  {
   "cell_type": "code",
   "execution_count": 426,
   "metadata": {},
   "outputs": [
    {
     "output_type": "stream",
     "name": "stdout",
     "text": [
      "x\no\n"
     ]
    }
   ],
   "source": [
    "print(player1)\n",
    "print(player2)"
   ]
  },
  {
   "cell_type": "code",
   "execution_count": 463,
   "metadata": {},
   "outputs": [],
   "source": [
    "def clear_board():\n",
    "   return ['#',' ',' ',' ',' ',' ',' ',' ',' ',' ']"
   ]
  },
  {
   "cell_type": "code",
   "execution_count": 466,
   "metadata": {},
   "outputs": [
    {
     "output_type": "execute_result",
     "data": {
      "text/plain": [
       "['#', ' ', ' ', ' ', ' ', ' ', ' ', ' ', ' ', ' ']"
      ]
     },
     "metadata": {},
     "execution_count": 466
    }
   ],
   "source": [
    "clear_board()"
   ]
  },
  {
   "cell_type": "code",
   "execution_count": 465,
   "metadata": {},
   "outputs": [
    {
     "output_type": "execute_result",
     "data": {
      "text/plain": [
       "['#', ' ', ' ', ' ', ' ', ' ', ' ', ' ', ' ', ' ']"
      ]
     },
     "metadata": {},
     "execution_count": 465
    }
   ],
   "source": [
    "board"
   ]
  },
  {
   "cell_type": "code",
   "execution_count": 468,
   "metadata": {},
   "outputs": [
    {
     "output_type": "stream",
     "name": "stdout",
     "text": [
      "x| | \n-----\nx|o| \n-----\nx|o| \nPlayer 1 has won\n"
     ]
    }
   ],
   "source": [
    "# Set up game \n",
    "game = input('Welcome to TicTacToe, are you ready to play a game: Y or N')\n",
    "# Define board\n",
    "board = clear_board()\n",
    "    # Ask player to pick x or o\n",
    "player_choice\n",
    "    # Assign marks to the players\n",
    "player1,player2 = player_choice()\n",
    "    # Pick a player to go first\n",
    "turn = player()\n",
    "if game.lower()[0] == 'y':\n",
    "    print(turn)\n",
    "    game_on = True\n",
    "else:\n",
    "    game_on = False\n",
    "while game_on:\n",
    "    #player 1\n",
    "    if turn == 'Player 1 goes first':\n",
    "        player_move(board,player1)\n",
    "        if check_victory(board,player1):\n",
    "            print('Player 1 has won')\n",
    "            game = input('Would you like to play again? Y or N')\n",
    "            if game == 'y':\n",
    "                board = clear_board()\n",
    "                player_choice\n",
    "                player1,player2 = player_choice()\n",
    "                turn = player()\n",
    "                print(turn)\n",
    "                game_on = True\n",
    "            else:\n",
    "                game_on = False\n",
    "        else:\n",
    "            if check_if_full(board):\n",
    "                print('Its a tie.')\n",
    "            else:\n",
    "                clear_output()\n",
    "                turn = 'Player 2 goes first'\n",
    "    else:\n",
    "        player_move(board,player2)\n",
    "        if check_victory(board,player2):\n",
    "            print('Player 2 has won')\n",
    "            game = input('Would you like to play again? Y or N')\n",
    "            if game == 'y':\n",
    "                board = clear_board()\n",
    "                player_choice\n",
    "                player1,player2 = player_choice()\n",
    "                turn = player()\n",
    "                print(turn)\n",
    "                game_on = True\n",
    "            else:\n",
    "                game_on = False\n",
    "        else:\n",
    "            if check_if_full(board):\n",
    "                print('Its a tie.')\n",
    "            else:\n",
    "                clear_output()\n",
    "                turn = 'Player 1 goes first'"
   ]
  }
 ]
}